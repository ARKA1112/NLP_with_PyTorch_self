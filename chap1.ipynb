{
 "cells": [
  {
   "cell_type": "code",
   "execution_count": null,
   "metadata": {},
   "outputs": [],
   "source": [
    "from sklearn.feature_extraction.text import CountVectorizer\n",
    "\n",
    "import seaborn as sns"
   ]
  },
  {
   "cell_type": "code",
   "execution_count": null,
   "metadata": {},
   "outputs": [],
   "source": [
    "vocab  = corpus[0].split()\n",
    "vocab.extend(corpus[1].split())\n",
    "vocab = list(set(vocab))"
   ]
  },
  {
   "cell_type": "code",
   "execution_count": null,
   "metadata": {},
   "outputs": [],
   "source": [
    "\n",
    "vocab = sorted(list(map(lambda x: x.lower(), vocab)))"
   ]
  },
  {
   "cell_type": "code",
   "execution_count": null,
   "metadata": {},
   "outputs": [],
   "source": [
    "vocab"
   ]
  },
  {
   "cell_type": "code",
   "execution_count": null,
   "metadata": {},
   "outputs": [],
   "source": [
    "corpus = ['Time flies flies like an arrow.',\n",
    "          'Fruit flies like a banana.']\n",
    "\n",
    "one_hot_vectorizer = CountVectorizer(binary=True)\n",
    "one_hot = one_hot_vectorizer.fit_transform(corpus).toarray()\n",
    "\n",
    "sns.heatmap(one_hot, annot=True, cbar=False,xticklabels = vocab,yticklabels=['Sentence 1','Sentence 2'])\n"
   ]
  },
  {
   "cell_type": "code",
   "execution_count": null,
   "metadata": {},
   "outputs": [],
   "source": [
    "#TF-IDF - Term frequency and Inverse Document Frequency"
   ]
  },
  {
   "cell_type": "code",
   "execution_count": null,
   "metadata": {},
   "outputs": [],
   "source": [
    "#Generating a TF-IDF representation using scikit-learn\n",
    "\n",
    "\n",
    "from sklearn.feature_extraction.text import TfidfVectorizer\n",
    "import seaborn as sns\n",
    "\n",
    "tfidf_vectorizer = TfidfVectorizer()\n",
    "\n",
    "tfidf = tfidf_vectorizer.fit_transform(corpus).toarray()\n",
    "sns.heatmap(tfidf, annot=True, cbar=False, xticklabels=vocab, yticklabels=['Sentence 1', 'Senctence 2'])"
   ]
  },
  {
   "attachments": {},
   "cell_type": "markdown",
   "metadata": {},
   "source": [
    "Torch Tensors"
   ]
  },
  {
   "cell_type": "code",
   "execution_count": null,
   "metadata": {},
   "outputs": [],
   "source": [
    "#create a helper function\n",
    "\n",
    "\n",
    "def describe(x):\n",
    "    print(\"Type: {}\".format(x.type()))\n",
    "    print(f\"Shape/size: {x.shape}\")\n",
    "    print(f\"Values: \\n{x}\")"
   ]
  },
  {
   "cell_type": "code",
   "execution_count": null,
   "metadata": {},
   "outputs": [],
   "source": [
    "import torch\n",
    "describe(torch.rand(2,3)) #uniform random\n",
    "describe(torch.randn(2,3))\n",
    "describe(torch.zeros(2,3))\n",
    "x = torch.ones(2,3)\n",
    "describe(x)\n",
    "x.fill_(5)\n",
    "describe(x)"
   ]
  },
  {
   "attachments": {},
   "cell_type": "markdown",
   "metadata": {},
   "source": [
    "Tensor Types and Size"
   ]
  },
  {
   "cell_type": "code",
   "execution_count": null,
   "metadata": {},
   "outputs": [],
   "source": [
    "#1\n",
    "x = torch.FloatTensor([[1,2,3],[4,5,6]])\n",
    "describe(x)\n",
    "#2 \n",
    "x = x.long()\n",
    "describe(x)\n",
    "#3\n",
    "\n",
    "x = torch.tensor([[1,2,3],[4,5,6]], dtype=torch.int64)\n",
    "describe(x)"
   ]
  },
  {
   "cell_type": "code",
   "execution_count": null,
   "metadata": {},
   "outputs": [],
   "source": [
    "#4\n",
    "\n",
    "x = x.float()\n",
    "describe(x)\n",
    "Tensor operations\n",
    "x = torch.randn(2,3)\n",
    "describe(x)\n",
    "describe(torch.add(x,x))\n",
    "describe(x +x)"
   ]
  },
  {
   "cell_type": "code",
   "execution_count": null,
   "metadata": {},
   "outputs": [],
   "source": [
    "#arange\n",
    "describe(torch.arange(6))\n",
    "\n",
    "#view\n",
    "x=  torch.arange(8).view(4,2)\n",
    "describe(torch.arange(6).view(2,3))  #sort of reshaping the vector\n",
    "describe(x)"
   ]
  },
  {
   "cell_type": "code",
   "execution_count": null,
   "metadata": {},
   "outputs": [],
   "source": [
    "#If we want to do sum on columns\n",
    "\n",
    "describe(torch.sum(x, dim=0))\n",
    "\n",
    "\n",
    "#sum on rows\n",
    "\n",
    "describe(torch.sum(x, dim=1))\n",
    "\n",
    "\n",
    "#Also we can transpose the matrix\n",
    "\n",
    "describe(x.T)"
   ]
  },
  {
   "cell_type": "markdown",
   "metadata": {},
   "source": [
    "Indexing, slicing and joining"
   ]
  },
  {
   "cell_type": "code",
   "execution_count": 104,
   "metadata": {},
   "outputs": [
    {
     "data": {
      "text/plain": [
       "tensor([[0, 1],\n",
       "        [2, 3],\n",
       "        [4, 5]])"
      ]
     },
     "execution_count": 104,
     "metadata": {},
     "output_type": "execute_result"
    }
   ],
   "source": [
    "x[:-1,:2]"
   ]
  },
  {
   "cell_type": "code",
   "execution_count": 108,
   "metadata": {},
   "outputs": [
    {
     "name": "stdout",
     "output_type": "stream",
     "text": [
      "Type: torch.LongTensor\n",
      "Shape/size: torch.Size([])\n",
      "Values: \n",
      "1\n"
     ]
    }
   ],
   "source": [
    "describe(x[0,1])\n",
    "indices = torch.LongTensor([0,1])\n",
    "describe(torch.index_select(x, dim=0, index=indices))\n",
    "row_indices = torch.arange(2).long()\n",
    "col_indices = torch.LongTensor([0,1])\n",
    "describe(x[row_indices, col_indices])"
   ]
  },
  {
   "cell_type": "code",
   "execution_count": 116,
   "metadata": {},
   "outputs": [
    {
     "name": "stdout",
     "output_type": "stream",
     "text": [
      "Type: torch.LongTensor\n",
      "Shape/size: torch.Size([4, 4])\n",
      "Values: \n",
      "tensor([[0, 1, 0, 1],\n",
      "        [2, 3, 2, 3],\n",
      "        [4, 5, 4, 5],\n",
      "        [6, 7, 6, 7]])\n"
     ]
    }
   ],
   "source": [
    "describe(torch.cat([x,x], dim=1))"
   ]
  },
  {
   "cell_type": "code",
   "execution_count": 120,
   "metadata": {},
   "outputs": [],
   "source": [
    "x2 = torch.ones(4,2)"
   ]
  },
  {
   "cell_type": "code",
   "execution_count": 124,
   "metadata": {},
   "outputs": [
    {
     "name": "stdout",
     "output_type": "stream",
     "text": [
      "Type: torch.FloatTensor\n",
      "Shape/size: torch.Size([4, 2])\n",
      "Values: \n",
      "tensor([[1., 2.],\n",
      "        [1., 2.],\n",
      "        [1., 2.],\n",
      "        [1., 2.]])\n"
     ]
    }
   ],
   "source": [
    "x2[:,1] +=  1\n",
    "describe(x2)"
   ]
  },
  {
   "cell_type": "code",
   "execution_count": 133,
   "metadata": {},
   "outputs": [],
   "source": [
    "x = x.to(torch.float)"
   ]
  },
  {
   "cell_type": "code",
   "execution_count": 135,
   "metadata": {},
   "outputs": [
    {
     "data": {
      "text/plain": [
       "tensor([[12., 24.],\n",
       "        [16., 32.]])"
      ]
     },
     "execution_count": 135,
     "metadata": {},
     "output_type": "execute_result"
    }
   ],
   "source": [
    "torch.matmul(x.T,x2)"
   ]
  },
  {
   "attachments": {},
   "cell_type": "markdown",
   "metadata": {},
   "source": [
    "torch.grad"
   ]
  },
  {
   "cell_type": "code",
   "execution_count": 136,
   "metadata": {},
   "outputs": [
    {
     "name": "stdout",
     "output_type": "stream",
     "text": [
      "Type: torch.FloatTensor\n",
      "Shape/size: torch.Size([2, 2])\n",
      "Values: \n",
      "tensor([[1., 1.],\n",
      "        [1., 1.]], requires_grad=True)\n",
      "True\n"
     ]
    }
   ],
   "source": [
    "x = torch.ones(2,2, requires_grad=True)\n",
    "describe(x)\n",
    "print(x.grad is None)"
   ]
  },
  {
   "cell_type": "code",
   "execution_count": 137,
   "metadata": {},
   "outputs": [
    {
     "name": "stdout",
     "output_type": "stream",
     "text": [
      "Type: torch.FloatTensor\n",
      "Shape/size: torch.Size([2, 2])\n",
      "Values: \n",
      "tensor([[21., 21.],\n",
      "        [21., 21.]], grad_fn=<AddBackward0>)\n",
      "True\n"
     ]
    }
   ],
   "source": [
    "y = (x+2) * (x + 5 ) + 3\n",
    "describe(y)\n",
    "print(x.grad is None)"
   ]
  },
  {
   "cell_type": "code",
   "execution_count": 138,
   "metadata": {},
   "outputs": [
    {
     "name": "stdout",
     "output_type": "stream",
     "text": [
      "Type: torch.FloatTensor\n",
      "Shape/size: torch.Size([])\n",
      "Values: \n",
      "21.0\n",
      "False\n"
     ]
    }
   ],
   "source": [
    "z = y.mean()\n",
    "describe(z)\n",
    "z.backward()\n",
    "print(x.grad is None)"
   ]
  },
  {
   "cell_type": "code",
   "execution_count": 142,
   "metadata": {},
   "outputs": [
    {
     "name": "stdout",
     "output_type": "stream",
     "text": [
      "False\n"
     ]
    }
   ],
   "source": [
    "print(torch.cuda.is_available())"
   ]
  },
  {
   "cell_type": "code",
   "execution_count": 145,
   "metadata": {},
   "outputs": [
    {
     "name": "stdout",
     "output_type": "stream",
     "text": [
      "cpu\n"
     ]
    }
   ],
   "source": [
    "#preffered method\n",
    "\n",
    "device = torch.device(\"cuda\" if torch.cuda.is_available() else \"cpu\")\n",
    "print(device)"
   ]
  },
  {
   "cell_type": "code",
   "execution_count": 146,
   "metadata": {},
   "outputs": [],
   "source": [
    "x=  torch.rand(3,3).to(device)"
   ]
  },
  {
   "cell_type": "code",
   "execution_count": 148,
   "metadata": {},
   "outputs": [
    {
     "name": "stdout",
     "output_type": "stream",
     "text": [
      "Type: torch.FloatTensor\n",
      "Shape/size: torch.Size([3, 3])\n",
      "Values: \n",
      "tensor([[0.9940, 0.0627, 0.6759],\n",
      "        [0.6710, 0.6265, 0.0485],\n",
      "        [0.6748, 0.4083, 0.9273]])\n"
     ]
    }
   ],
   "source": [
    "describe(x)"
   ]
  },
  {
   "cell_type": "code",
   "execution_count": 149,
   "metadata": {},
   "outputs": [],
   "source": [
    "y =torch.rand(3,3)"
   ]
  },
  {
   "cell_type": "code",
   "execution_count": 150,
   "metadata": {},
   "outputs": [
    {
     "data": {
      "text/plain": [
       "tensor([[1.2434, 1.0597, 0.8367],\n",
       "        [0.7382, 0.7890, 0.4081],\n",
       "        [1.3018, 0.7471, 1.5143]])"
      ]
     },
     "execution_count": 150,
     "metadata": {},
     "output_type": "execute_result"
    }
   ],
   "source": [
    "x + y"
   ]
  },
  {
   "cell_type": "code",
   "execution_count": 151,
   "metadata": {},
   "outputs": [
    {
     "data": {
      "text/plain": [
       "tensor([[1.2434, 1.0597, 0.8367],\n",
       "        [0.7382, 0.7890, 0.4081],\n",
       "        [1.3018, 0.7471, 1.5143]])"
      ]
     },
     "execution_count": 151,
     "metadata": {},
     "output_type": "execute_result"
    }
   ],
   "source": [
    "cpu_device = torch.device(\"cpu\")\n",
    "y =  y.to(cpu_device)\n",
    "x=  x.to(cpu_device)\n",
    "x + y"
   ]
  },
  {
   "cell_type": "code",
   "execution_count": 163,
   "metadata": {},
   "outputs": [
    {
     "data": {
      "text/plain": [
       "tensor([[1., 1., 1.]])"
      ]
     },
     "execution_count": 163,
     "metadata": {},
     "output_type": "execute_result"
    }
   ],
   "source": [
    "x1"
   ]
  },
  {
   "cell_type": "code",
   "execution_count": 167,
   "metadata": {},
   "outputs": [],
   "source": [
    "'''Excercise 1'''\n",
    "x1 = torch.ones(1,3)\n",
    "x3 = torch.cat([x1,x],dim=0)"
   ]
  },
  {
   "cell_type": "code",
   "execution_count": 223,
   "metadata": {},
   "outputs": [
    {
     "name": "stdout",
     "output_type": "stream",
     "text": [
      "tensor([[[0.5412, 0.5398, 0.7735],\n",
      "         [0.4175, 0.0113, 0.0829],\n",
      "         [0.2578, 0.8875, 0.9758]]])\n"
     ]
    }
   ],
   "source": [
    "\n",
    "x3\n",
    "\n",
    "#soln\n",
    "a = torch.rand(3,3)\n",
    "print(a.unsqueeze(0))\n"
   ]
  },
  {
   "cell_type": "code",
   "execution_count": 224,
   "metadata": {},
   "outputs": [
    {
     "data": {
      "text/plain": [
       "tensor([[1.0000, 1.0000, 1.0000],\n",
       "        [1.9940, 0.0627, 0.6759],\n",
       "        [1.6710, 0.6265, 0.0485],\n",
       "        [1.6748, 0.4083, 0.9273]])"
      ]
     },
     "execution_count": 224,
     "metadata": {},
     "output_type": "execute_result"
    }
   ],
   "source": [
    "'''Excercise 2'''\n",
    "x4 = x3[1:,:]\n",
    "x4\n",
    "#soln\n",
    "x3.squeeze(0)"
   ]
  },
  {
   "cell_type": "code",
   "execution_count": 181,
   "metadata": {},
   "outputs": [
    {
     "name": "stdout",
     "output_type": "stream",
     "text": [
      "tensor([[0.3442, 0.7396, 0.3404],\n",
      "        [0.2918, 0.6985, 0.0326],\n",
      "        [0.8454, 0.7098, 0.5792],\n",
      "        [0.7247, 0.6935, 0.1599],\n",
      "        [0.7464, 0.7485, 0.8887]])\n"
     ]
    },
    {
     "data": {
      "text/plain": [
       "tensor([[4.3767, 5.9583, 4.3614],\n",
       "        [4.1672, 5.7940, 3.1306],\n",
       "        [6.3816, 5.8392, 5.3167],\n",
       "        [5.8987, 5.7739, 3.6394],\n",
       "        [5.9855, 5.9940, 6.5550]])"
      ]
     },
     "execution_count": 181,
     "metadata": {},
     "output_type": "execute_result"
    }
   ],
   "source": [
    "'''Excercise 3'''\n",
    "\n",
    "random_tensor = torch.rand(5,3)\n",
    "print(random_tensor)\n",
    "\n",
    "\n",
    "#scale the tensor to the interval [3.7)\n",
    "\n",
    "random_tensor*(7-3) + 3"
   ]
  },
  {
   "cell_type": "code",
   "execution_count": 200,
   "metadata": {},
   "outputs": [
    {
     "data": {
      "text/plain": [
       "tensor([[ 0.7622, -0.4842,  1.4043],\n",
       "        [ 0.1890, -1.0304, -0.7397],\n",
       "        [-0.5791,  0.4324,  1.4351],\n",
       "        [ 1.4301,  1.0704, -0.5254],\n",
       "        [-0.9871, -1.1784,  0.9174]])"
      ]
     },
     "execution_count": 200,
     "metadata": {},
     "output_type": "execute_result"
    }
   ],
   "source": [
    "'''Excercise 4'''\n",
    "torch.randn(5,3)"
   ]
  },
  {
   "cell_type": "code",
   "execution_count": 209,
   "metadata": {},
   "outputs": [
    {
     "data": {
      "text/plain": [
       "tensor([[0],\n",
       "        [1],\n",
       "        [2],\n",
       "        [4]])"
      ]
     },
     "execution_count": 209,
     "metadata": {},
     "output_type": "execute_result"
    }
   ],
   "source": [
    "'''Excercise5'''\n",
    "tensor = torch.Tensor([1, 1, 1,0, 1])\n",
    "tensor.nonzero()"
   ]
  },
  {
   "cell_type": "code",
   "execution_count": 225,
   "metadata": {},
   "outputs": [
    {
     "name": "stdout",
     "output_type": "stream",
     "text": [
      "tensor([[0.7106, 0.7106, 0.7106, 0.7106],\n",
      "        [0.1328, 0.1328, 0.1328, 0.1328],\n",
      "        [0.2998, 0.2998, 0.2998, 0.2998]])\n"
     ]
    },
    {
     "data": {
      "text/plain": [
       "tensor([[0.7106, 0.7106, 0.7106, 0.7106],\n",
       "        [0.1328, 0.1328, 0.1328, 0.1328],\n",
       "        [0.2998, 0.2998, 0.2998, 0.2998]])"
      ]
     },
     "execution_count": 225,
     "metadata": {},
     "output_type": "execute_result"
    }
   ],
   "source": [
    "'''Excercise 6'''\n",
    "random_tensor =  torch.rand(3,1)\n",
    "random_tensor = torch.cat([random_tensor,random_tensor,random_tensor,random_tensor],dim=1)\n",
    "print(random_tensor)\n",
    "\n",
    "\n",
    "#soln\n",
    "\n",
    "random_tensor.expand(3,4)"
   ]
  },
  {
   "cell_type": "code",
   "execution_count": null,
   "metadata": {},
   "outputs": [],
   "source": [
    "'''Excercise 7'''\n",
    "a = torch.rand(3,4,5)\n",
    "b = torch.rand(3,5,4)\n",
    "\n",
    "torch.matmul(a,b)\n",
    "print(a@b)\n",
    "print(torch.bmm(a,b))"
   ]
  },
  {
   "cell_type": "code",
   "execution_count": 227,
   "metadata": {},
   "outputs": [
    {
     "name": "stdout",
     "output_type": "stream",
     "text": [
      "tensor([[[0.2463, 0.9930, 0.0990, 0.0734, 0.0600],\n",
      "         [0.2154, 0.7167, 0.0283, 0.5925, 0.9207],\n",
      "         [0.8778, 0.3160, 0.2032, 0.1153, 0.8664],\n",
      "         [0.0479, 0.1926, 0.3400, 0.7307, 0.6901]],\n",
      "\n",
      "        [[0.4574, 0.8681, 0.1875, 0.5737, 0.7322],\n",
      "         [0.7355, 0.1797, 0.3841, 0.8928, 0.3124],\n",
      "         [0.1929, 0.1795, 0.2827, 0.3377, 0.9616],\n",
      "         [0.8823, 0.9927, 0.2913, 0.5691, 0.7566]],\n",
      "\n",
      "        [[0.2591, 0.9456, 0.2115, 0.0963, 0.7053],\n",
      "         [0.0509, 0.3478, 0.4548, 0.7606, 0.8537],\n",
      "         [0.1865, 0.1758, 0.0607, 0.5378, 0.1996],\n",
      "         [0.6337, 0.8376, 0.4026, 0.1140, 0.0983]]])\n",
      "tensor([[0.2675, 0.1769, 0.2959, 0.8983],\n",
      "        [0.0909, 0.2884, 0.6650, 0.8755],\n",
      "        [0.7599, 0.1950, 0.0254, 0.3132],\n",
      "        [0.9176, 0.1922, 0.3857, 0.7361],\n",
      "        [0.5165, 0.6735, 0.6489, 0.7713]])\n"
     ]
    }
   ],
   "source": [
    "a = torch.rand(3, 4, 5)\n",
    "b = torch.rand(5, 4)\n",
    "\n",
    "print(a)\n",
    "print(b)"
   ]
  },
  {
   "cell_type": "code",
   "execution_count": 231,
   "metadata": {},
   "outputs": [
    {
     "data": {
      "text/plain": [
       "3"
      ]
     },
     "execution_count": 231,
     "metadata": {},
     "output_type": "execute_result"
    }
   ],
   "source": [
    "a.size(0)"
   ]
  },
  {
   "cell_type": "code",
   "execution_count": 239,
   "metadata": {},
   "outputs": [
    {
     "data": {
      "text/plain": [
       "tensor([[0.2675, 0.1769, 0.2959, 0.8983],\n",
       "        [0.0909, 0.2884, 0.6650, 0.8755],\n",
       "        [0.7599, 0.1950, 0.0254, 0.3132],\n",
       "        [0.9176, 0.1922, 0.3857, 0.7361],\n",
       "        [0.5165, 0.6735, 0.6489, 0.7713]])"
      ]
     },
     "execution_count": 239,
     "metadata": {},
     "output_type": "execute_result"
    }
   ],
   "source": [
    "b.squeeze(0)"
   ]
  },
  {
   "cell_type": "code",
   "execution_count": 234,
   "metadata": {},
   "outputs": [
    {
     "data": {
      "text/plain": [
       "tensor([[[0.2675, 0.1769, 0.2959, 0.8983],\n",
       "         [0.0909, 0.2884, 0.6650, 0.8755],\n",
       "         [0.7599, 0.1950, 0.0254, 0.3132],\n",
       "         [0.9176, 0.1922, 0.3857, 0.7361],\n",
       "         [0.5165, 0.6735, 0.6489, 0.7713]],\n",
       "\n",
       "        [[0.2675, 0.1769, 0.2959, 0.8983],\n",
       "         [0.0909, 0.2884, 0.6650, 0.8755],\n",
       "         [0.7599, 0.1950, 0.0254, 0.3132],\n",
       "         [0.9176, 0.1922, 0.3857, 0.7361],\n",
       "         [0.5165, 0.6735, 0.6489, 0.7713]],\n",
       "\n",
       "        [[0.2675, 0.1769, 0.2959, 0.8983],\n",
       "         [0.0909, 0.2884, 0.6650, 0.8755],\n",
       "         [0.7599, 0.1950, 0.0254, 0.3132],\n",
       "         [0.9176, 0.1922, 0.3857, 0.7361],\n",
       "         [0.5165, 0.6735, 0.6489, 0.7713]]])"
      ]
     },
     "execution_count": 234,
     "metadata": {},
     "output_type": "execute_result"
    }
   ],
   "source": [
    "b.expand(a.size(0), *b.size())"
   ]
  },
  {
   "cell_type": "code",
   "execution_count": 228,
   "metadata": {},
   "outputs": [
    {
     "data": {
      "text/plain": [
       "tensor([[[0.3297, 0.4038, 0.8030, 1.2219],\n",
       "         [1.1635, 0.9843, 1.3671, 1.9761],\n",
       "         [0.9713, 0.8918, 1.0818, 1.8819],\n",
       "         [1.3156, 0.7355, 0.8805, 1.3882]],\n",
       "\n",
       "        [[1.2484, 0.9713, 1.4139, 2.2166],\n",
       "         [1.4855, 0.6388, 0.8940, 1.8365],\n",
       "         [1.0893, 0.8536, 0.9379, 1.4093],\n",
       "         [1.4606, 1.1181, 1.6391, 2.7553]],\n",
       "\n",
       "        [[0.7687, 0.8534, 1.2057, 1.7418],\n",
       "         [1.5297, 0.9192, 1.1053, 1.7110],\n",
       "         [0.7085, 0.3333, 0.5106, 0.8902],\n",
       "         [0.7070, 0.5203, 0.8626, 1.5884]]])"
      ]
     },
     "execution_count": 228,
     "metadata": {},
     "output_type": "execute_result"
    }
   ],
   "source": [
    "torch.bmm(a, b.squeeze(0).expand(a.size(0), *b.size()))"
   ]
  },
  {
   "cell_type": "code",
   "execution_count": null,
   "metadata": {},
   "outputs": [],
   "source": []
  }
 ],
 "metadata": {
  "kernelspec": {
   "display_name": "Python 3",
   "language": "python",
   "name": "python3"
  },
  "language_info": {
   "codemirror_mode": {
    "name": "ipython",
    "version": 3
   },
   "file_extension": ".py",
   "mimetype": "text/x-python",
   "name": "python",
   "nbconvert_exporter": "python",
   "pygments_lexer": "ipython3",
   "version": "3.10.10"
  },
  "orig_nbformat": 4
 },
 "nbformat": 4,
 "nbformat_minor": 2
}
